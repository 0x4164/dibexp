{
 "cells": [
  {
   "cell_type": "code",
   "execution_count": 29,
   "metadata": {
    "scrolled": true
   },
   "outputs": [
    {
     "name": "stdout",
     "output_type": "stream",
     "text": [
      "2018\n",
      "319 kamis\n"
     ]
    }
   ],
   "source": [
    "# itertools\n",
    "# \n",
    "# case study\n",
    "# 1 : hari apa ya di tanggal tertentu/ di hari ke x di tahun y?\n",
    "\n",
    "import itertools as itt\n",
    "\n",
    "# 1 januari 2018 = senin = 2\n",
    "diy=365\n",
    "diw=7\n",
    "diwinit=1\n",
    "# daytarget=200\n",
    "daytarget=319\n",
    "tahuninit=1\n",
    "totaltahun=2018\n",
    "\n",
    "def gethari(angka):\n",
    "    hari=['mgu','senin','selasa','rabu','kamis','jumat','sabtu']\n",
    "    return hari[angka-1]\n",
    "\n",
    "for t in range(tahuninit,totaltahun+1):\n",
    "    if t==totaltahun : print(t)\n",
    "        \n",
    "    if t%4==0:\n",
    "        diy+=1\n",
    "\n",
    "    for i in range(1,diy+1):\n",
    "        pass\n",
    "#         if i==daytarget:\n",
    "        if t==totaltahun and i==daytarget: print(i,gethari(diwinit))\n",
    "        diwinit+=1\n",
    "        if diwinit==diw+1:\n",
    "            diwinit=1\n",
    "    #     print(i,j)\n",
    "#         if i==s:\n",
    "    \n",
    "    if t%4==0:\n",
    "        diy-=1"
   ]
  },
  {
   "cell_type": "code",
   "execution_count": 28,
   "metadata": {},
   "outputs": [
    {
     "data": {
      "text/plain": [
       "319"
      ]
     },
     "execution_count": 28,
     "metadata": {},
     "output_type": "execute_result"
    }
   ],
   "source": [
    "365-46"
   ]
  }
 ],
 "metadata": {
  "kernelspec": {
   "display_name": "Python 3",
   "language": "python",
   "name": "python3"
  },
  "language_info": {
   "codemirror_mode": {
    "name": "ipython",
    "version": 3
   },
   "file_extension": ".py",
   "mimetype": "text/x-python",
   "name": "python",
   "nbconvert_exporter": "python",
   "pygments_lexer": "ipython3",
   "version": "3.6.5"
  }
 },
 "nbformat": 4,
 "nbformat_minor": 2
}
